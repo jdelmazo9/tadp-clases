{
 "cells": [
  {
   "cell_type": "markdown",
   "metadata": {},
   "source": [
    "## Contextos"
   ]
  },
  {
   "cell_type": "code",
   "execution_count": null,
   "metadata": {},
   "outputs": [],
   "source": [
    "x = 10\n",
    "class A\n",
    "  puts x\n",
    "end\n",
    "# NameError: undefined local variable or method `x' for A:Class\n",
    "\n",
    "def m\n",
    "  puts x\n",
    "end\n",
    "m # NameError: undefined local variable or method `x' for main:Object"
   ]
  },
  {
   "cell_type": "markdown",
   "metadata": {},
   "source": [
    "## Flat scope"
   ]
  },
  {
   "cell_type": "code",
   "execution_count": null,
   "metadata": {},
   "outputs": [],
   "source": [
    "a = 5\n",
    "p = lambda {a = a + 1}\n",
    "p.call # 6\n",
    "p.call # 7\n",
    "\n",
    "a   # 7"
   ]
  },
  {
   "cell_type": "code",
   "execution_count": null,
   "metadata": {},
   "outputs": [],
   "source": [
    "x = 10\n",
    "define_method(:m) do\n",
    "  x + 5\n",
    "end\n",
    "m # 15"
   ]
  },
  {
   "cell_type": "code",
   "execution_count": null,
   "metadata": {},
   "outputs": [],
   "source": [
    "x = 10\n",
    "una_clase = Class.new do\n",
    "  x += 5\n",
    "end\n",
    "x # 15"
   ]
  },
  {
   "cell_type": "markdown",
   "metadata": {},
   "source": [
    "## Lambdas / Procs"
   ]
  },
  {
   "cell_type": "code",
   "execution_count": null,
   "metadata": {},
   "outputs": [],
   "source": [
    "lam = lambda { |x| puts x } # creates a lambda that takes 1 argument \n",
    "lam.call(2) # prints out 2"
   ]
  },
  {
   "cell_type": "code",
   "execution_count": null,
   "metadata": {},
   "outputs": [],
   "source": [
    "lam.call # ArgumentError: wrong number of arguments (0 for 1)"
   ]
  },
  {
   "cell_type": "code",
   "execution_count": null,
   "metadata": {},
   "outputs": [],
   "source": [
    "lam.call(1,2,3) # ArgumentError: wrong number of arguments (3 for 1)"
   ]
  },
  {
   "cell_type": "code",
   "execution_count": null,
   "metadata": {},
   "outputs": [],
   "source": [
    "proc = Proc.new { |x| puts x } # creates a proc that takes 1 argument \n",
    "proc.call(2) # prints out 2 \n",
    "proc.call # returns nil \n",
    "proc.call(1,2,3) # prints out 1 and forgets about the extra arguments"
   ]
  },
  {
   "cell_type": "code",
   "execution_count": null,
   "metadata": {},
   "outputs": [],
   "source": [
    "def lambda_test \n",
    "  lam = lambda { return } \n",
    "  lam.call \n",
    "  puts \"Hello world\"\n",
    "end\n",
    "\n",
    "lambda_test # calling lambda_test prints ‘Hello World’"
   ]
  },
  {
   "cell_type": "code",
   "execution_count": null,
   "metadata": {},
   "outputs": [],
   "source": [
    "def proc_test \n",
    "  proc = Proc.new { return } \n",
    "  proc.call \n",
    "  puts \"Hello world\"\n",
    "end\n",
    "\n",
    "proc_test # calling proc_test prints nothing"
   ]
  },
  {
   "cell_type": "markdown",
   "metadata": {},
   "source": [
    "## Bloques"
   ]
  },
  {
   "cell_type": "code",
   "execution_count": null,
   "metadata": {},
   "outputs": [],
   "source": [
    "def bloque_test\n",
    "  yield(3)\n",
    "end\n",
    "\n",
    "bloque_test do |x|\n",
    "  x + 2\n",
    "end"
   ]
  },
  {
   "cell_type": "code",
   "execution_count": null,
   "metadata": {},
   "outputs": [],
   "source": [
    "# Cuando sea necesario, se puede pasar un proc en lugar de un bloque usando &\n",
    "def bloque_proc_test(&bloque)\n",
    "  bloque.call(3)\n",
    "end\n",
    "\n",
    "bloque_test do |x|\n",
    "  x + 2\n",
    "end"
   ]
  },
  {
   "cell_type": "markdown",
   "metadata": {},
   "source": [
    "## Receptor implícito"
   ]
  },
  {
   "cell_type": "code",
   "execution_count": null,
   "metadata": {},
   "outputs": [],
   "source": [
    "class Usuario\n",
    "  attr_accessor :edad\n",
    "\n",
    "  def initialize(edad)\n",
    "    @edad = edad\n",
    "  end\n",
    "\n",
    "  def mayor_de_edad?\n",
    "    edad >= 18\n",
    "  end\n",
    "end\n",
    "\n",
    "Usuario.new(19).mayor_de_edad?"
   ]
  },
  {
   "cell_type": "markdown",
   "metadata": {},
   "source": [
    "## Contextos y bloques"
   ]
  },
  {
   "cell_type": "code",
   "execution_count": null,
   "metadata": {},
   "outputs": [],
   "source": [
    "class Usuario\n",
    "  def lazy_edad\n",
    "    proc { edad }\n",
    "  end\n",
    "end\n",
    "\n",
    "Usuario.new(19).lazy_edad.call"
   ]
  },
  {
   "cell_type": "code",
   "execution_count": null,
   "metadata": {},
   "outputs": [],
   "source": [
    "class Usuario\n",
    "  def con_bloque(bloque)\n",
    "    bloque.call\n",
    "  end\n",
    "end\n",
    "\n",
    "mayor = Usuario.new(19)\n",
    "menor = Usuario.new(15)\n",
    "menor.con_bloque(mayor.lazy_edad)"
   ]
  },
  {
   "cell_type": "code",
   "execution_count": null,
   "metadata": {},
   "outputs": [],
   "source": [
    "# Si necesito que el bloque mande mensajes a otro usuario, voy a tener que pasarlo por parámetro\n",
    "class Usuario\n",
    "  def edad_de\n",
    "    proc { |u| u.edad }\n",
    "  end\n",
    "end\n",
    "\n",
    "Usuario.new(19).edad_de.call(Usuario.new(15))"
   ]
  },
  {
   "cell_type": "markdown",
   "metadata": {},
   "source": [
    "## Cambiar el contexto"
   ]
  },
  {
   "cell_type": "code",
   "execution_count": null,
   "metadata": {},
   "outputs": [],
   "source": [
    "class Usuario\n",
    "  def edad_de\n",
    "    proc { edad }\n",
    "  end\n",
    "end\n",
    "\n",
    "bloque = menor.edad_de"
   ]
  },
  {
   "cell_type": "code",
   "execution_count": null,
   "metadata": {},
   "outputs": [],
   "source": [
    "mayor.instance_eval(&bloque)"
   ]
  },
  {
   "cell_type": "code",
   "execution_count": null,
   "metadata": {},
   "outputs": [],
   "source": [
    "menor.instance_eval(&bloque)"
   ]
  },
  {
   "cell_type": "markdown",
   "metadata": {},
   "source": [
    "## Ejercicio"
   ]
  },
  {
   "cell_type": "code",
   "execution_count": null,
   "metadata": {},
   "outputs": [],
   "source": [
    "class Cocinero\n",
    "  attr_accessor :ingredientes, :empanada\n",
    "\n",
    "  def initialize\n",
    "    self.ingredientes = []\n",
    "  end\n",
    "\n",
    "  def preparar_empanadas(&receta)\n",
    "    self.instance_eval(&receta)\n",
    "  end\n",
    "\n",
    "  def saltear_cebolla\n",
    "    self.agregar(\"cebolla salteada\")\n",
    "  end\n",
    "\n",
    "  def cocinar_carne\n",
    "    self.agregar(\"carne cocida\")\n",
    "  end\n",
    "\n",
    "  def agregar(ingrediente)\n",
    "    self.ingredientes << ingrediente\n",
    "  end\n",
    "\n",
    "  def rellenar_tapas\n",
    "    self.empanada = Empanada.new(ingredientes)\n",
    "  end\n",
    "\n",
    "  def hornear\n",
    "    self.empanada.hornear\n",
    "    self.empanada\n",
    "  end\n",
    "end"
   ]
  },
  {
   "cell_type": "code",
   "execution_count": null,
   "metadata": {},
   "outputs": [],
   "source": [
    "class Empanada\n",
    "  attr_accessor :ingredientes, :horneada\n",
    "\n",
    "  def self.receta\n",
    "    proc {\n",
    "      saltear_cebolla\n",
    "      cocinar_carne\n",
    "      agregar 'huevo'\n",
    "      agregar 'aceitunas'\n",
    "      rellenar_tapas\n",
    "      hornear\n",
    "    }\n",
    "  end\n",
    "\n",
    "  def self.tucumana\n",
    "    proc {\n",
    "      saltear_cebolla\n",
    "      cocinar_carne\n",
    "      agregar 'huevo'\n",
    "      agregar 'aceitunas'\n",
    "      rellenar_tapas\n",
    "      agregar_papa\n",
    "      hornear\n",
    "    }\n",
    "  end\n",
    "\n",
    "  def initialize(ingredientes)\n",
    "    self.ingredientes = ingredientes\n",
    "  end\n",
    "\n",
    "  def hornear\n",
    "    self.horneada = true\n",
    "  end\n",
    "end"
   ]
  },
  {
   "cell_type": "code",
   "execution_count": null,
   "metadata": {},
   "outputs": [],
   "source": [
    "maiu = Cocinero.new\n",
    "maiu.preparar_empanadas(&Empanada.receta)"
   ]
  },
  {
   "cell_type": "code",
   "execution_count": null,
   "metadata": {},
   "outputs": [],
   "source": [
    "axel = Cocinero.new\n",
    "axel.define_singleton_method(:agregar) do |ingrediente|\n",
    "  if ingrediente != \"aceitunas\"\n",
    "    super(ingrediente)\n",
    "  end\n",
    "end\n",
    "axel.preparar_empanadas(&Empanada.receta)"
   ]
  },
  {
   "cell_type": "code",
   "execution_count": null,
   "metadata": {},
   "outputs": [],
   "source": [
    "# tucumanas\n",
    "maiu.preparar_empanadas(&Empanada.tucumana) # esto rompe por la papa"
   ]
  },
  {
   "cell_type": "markdown",
   "metadata": {},
   "source": [
    "## Method Missing"
   ]
  },
  {
   "cell_type": "code",
   "execution_count": null,
   "metadata": {},
   "outputs": [],
   "source": [
    "class Cocinero\n",
    "  def method_missing(nombre, *args, &bloque)\n",
    "    if nombre.to_s.start_with?(\"agregar_\")\n",
    "      ingrediente = nombre.slice(\"agregar_\".size, nombre.size)\n",
    "      self.agregar(ingrediente)\n",
    "    else\n",
    "      super\n",
    "    end\n",
    "  end\n",
    "\n",
    "  def self.respond_to_missing?(sym, priv = false)\n",
    "    sym.to_s.start_with?('agregar_')\n",
    "  end\n",
    "end"
   ]
  },
  {
   "cell_type": "code",
   "execution_count": null,
   "metadata": {},
   "outputs": [],
   "source": [
    "maiu.preparar_empanadas(&Empanada.tucumana) # ahora si"
   ]
  }
 ],
 "metadata": {
  "kernelspec": {
   "display_name": "Ruby 2.5.1",
   "language": "ruby",
   "name": "ruby"
  },
  "language_info": {
   "file_extension": ".rb",
   "mimetype": "application/x-ruby",
   "name": "ruby",
   "version": "2.5.1"
  }
 },
 "nbformat": 4,
 "nbformat_minor": 2
}
